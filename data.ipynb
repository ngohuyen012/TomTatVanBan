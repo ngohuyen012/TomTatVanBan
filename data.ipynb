{
 "cells": [
  {
   "cell_type": "code",
   "execution_count": 1,
   "metadata": {},
   "outputs": [],
   "source": [
    "import pickle"
   ]
  },
  {
   "cell_type": "code",
   "execution_count": 7,
   "metadata": {},
   "outputs": [],
   "source": [
    "contents = {1:'Mây tương đối nặng. Nước trong các đám mây điển hình có thể có khối lượng hàng triệu tấn, mặc dù mỗi mét khối mây chứa chỉ khoảng 5 gam nước. Các giọt nước trong mây nặng hơn hơi nước khoảng 1.000 lần, vì thế chúng nặng hơn không khí. Lý do tại sao chúng không rơi, mà lại được giữ trong khí quyển là các giọt nước lỏng được bao quanh bởi không khí ấm. Không khí bị ấm lên do năng lượng nhiệt giải phóng khi nước ngưng tụ từ hơi nước. Do các giọt nước rất nhỏ, chúng \"dính\" với không khí ấm. Khi mây được tạo thành, không khí ấm mở rộng hơn là giảm thể tích sau khi hơi nước ngưng tụ, làm cho các đám mây bị đẩy lên cao, và sau đó mật độ riêng của mây giảm tới mức mật độ trung bình của không khí và mây trôi đi trong không khí.',\n",
    "            2:'Vào ngày sinh nhật lần thứ 8 của em, bà ngoại có tặng em một chú mèo rất dễ thương và đáng yêu. Vừa nhìn thấy chú là em đã vui mừng và thích thú lắm. Em thường gọi chú với cái tên dễ thương là Mi.Meo, meo, meo, hôm nào cũng vậy, cứ khi em ngồi vào bàn học bài là chú Mi lại đến nằm dụi đầu vào chân em. Mi thân thiết và gắn bó với em từng ngày. Ngày bà ngoại cho, con mèo chỉ bằng chai nước khoáng nhỏ nhưng bây giờ thì nó đã to bằng cái chai Cô-ca đại bự. Toàn thân chú được bao phủ một màu vàng và điểm thêm vài vệt trắng làm cho chiếc áo của chú lại càng thêm đẹp.Cái đầu của chú to hơn quả bóng ten-nít một chút. Đôi mắt tròn như hai hòn bi ve và sáng như đèn pha. Cái mũi phơn phớt hồng, lúc nào cũng ươn ướt như người bị cúm sổ mũi vậy. Cái tai của chú mới thính làm sao! Chỉ một tiếng động nhỏ, chú đều phát hiện được đó là tiếng gì, có cần phải giải quyết hay không. Cái tai và cái mũi đó chính là cái ra-đa của chú để phát hiện những tên chuột láu lỉnh hay phá hoại, ăn trộm thóc gạo của người.',\n",
    "            3:'Cổ Mi được quàng một chiếc khăn màu trắng đục. Bốn cái chân không cao lắm so với thân hình chú nhưng lại chạy rất nhanh. Dưới bàn chân là một lớp thịt dày, mịn, màu hồng nhạt. Bà em bảo những miếng thịt đó giúp Mi di chuyển nhẹ nhàng, không gây một tiếng động nhỏ, làm cho nhiều chú chuột không ngờ. Những chiếc vuốt của chú rất nhọn và sắc. Đã có lần, những chiếc vuốt đó đã để lại dấu vết trên tay em khi em đùa vui, nghịch ngợm với chú. Chính những chiếc vuốt đó là thứ vũ khí lợi hại của chú mà mỗi con chuột khi nhìn thấy phải kinh hoàng.Mỗi khi muốn chơi với em, chú lại dùng đầu dụi vào tay em rồi lấy những cái vuốt ấy cào cào nhẹ vào bàn tay em. Chao ôi! Cái đuôi của chú mới dẻo làm sao! Chiếc đuôi như một cái dấu ngã, chẳng giấu vào đâu được. Hôm nào cũng vậy, chú ta cứ ngủ khì. Thế nhưng lũ chuột cũng chẳng dám ra quấy phá vì chú rất tinh, cũng có thể lũ chuột cảnh giác, nghĩ là Mi đang rình chúng đấy.',\n",
    "            4:'Ban đêm, Mi ta mới đi làm cho chủ. Chú ta biết hết đường đi lối lại của bọn chuột. Không con chuột nào chạy thoát nếu chú đã phát hiện được. Có lần, em được chứng kiến nó bắt chuột ban ngày. Có lẽ, con chuột đó đói quá phải đi ăn trộm ban ngày. Chú Mi ngụy trang rất khéo, chú nằm khuất sau cái chổi cạnh chân hòm cáng thóc. Một con chuột nhắt rất tinh ranh, mắt lấm lét, đi nhẹ nhàng đến định trèo lên hòm thóc để chui vào ăn thóc. Mi nằm yên như đang ngủ. Bỗng “chụp” một cái, chỉ nghe thấy tiếng “chít” tuyệt vọng, Mi ta đã vồ gọn con mồi trong móng vuốt của chú.Hả hê với chiến thắng của mình, Mi tha con chuột đó ra vườn. Chú nhả con chuột ra, lấy cái chân trước vờn đi vờn lại con chuột đó. Con chuột vội chạy đi nhưng chạy sao thoát. Em nghĩ con chuột đó chỉ sợ đã chết. Thế rồi, chú ta ung dung ngồi chén hết con chuột nhắt đó. Mỗi lần chú bắt được chuột, em đều vuốt ve động viên chú. Đến bữa, em lại thưởng cho chú những miếng ăn ngon nhất. Mi tỏ vẻ sung sướng lắm.Mi ăn rất ít, hàng ngày chú ta ăn không hết một bát cơm. Khi ăn, chú ta cứ nhỏ nhẻ từng tí một. Em thường nghe mọi người nói “ăn như mèo” quả không sai. Dù đói đến đâu thì Mi cũng ăn rất từ tốn. Khác với Vàng - chú cún tinh nghịch nhà em, cứ ăn hùng hục. Vàng và Mi rất thân với nhau. Ngày nào, chúng cũng chơi đùa với nhau mà không có xích mích gì cả.Buổi sáng, khi nắng vàng trải khắp sân, Mi nằm duỗi dài bốn chân, mắt lim dim, trông thật đáng yêu. Thỉnh thoảng, nó lại cho tay lên mặt cào cào, như là nó đang rửa mặt. Buổi tối, khi cả nhà ăn cơm xong, bao giờ Mi cũng tranh thủ ngồi vào lòng em nũng nịu.Em rất yêu quý Mi. Mi không chỉ là vật kỉ niệm của bà ngoại tặng cho em mà nó còn là “dũng sĩ diệt chuột” của nhà em. Mi giúp nhà em rất nhiều trong chiến dịch diệt chuột. Từ ngày có Mi, nhà em không còn lo lũ chuột quấy phá. Em sẽ chăm sóc Mi cho khỏe, chơi với Mi vui vẻ để làm theo đúng lời dặn của bà em khi bà tặng Mi cho em.',\n",
    "           }\n",
    "filename = \"data.pkl\"\n",
    "file = open(filename, \"wb\")\n",
    "pickle.dump(contents, file)"
   ]
  },
  {
   "cell_type": "code",
   "execution_count": null,
   "metadata": {},
   "outputs": [],
   "source": []
  }
 ],
 "metadata": {
  "kernelspec": {
   "display_name": "Python 3",
   "language": "python",
   "name": "python3"
  },
  "language_info": {
   "codemirror_mode": {
    "name": "ipython",
    "version": 3
   },
   "file_extension": ".py",
   "mimetype": "text/x-python",
   "name": "python",
   "nbconvert_exporter": "python",
   "pygments_lexer": "ipython3",
   "version": "3.8.3"
  }
 },
 "nbformat": 4,
 "nbformat_minor": 4
}
