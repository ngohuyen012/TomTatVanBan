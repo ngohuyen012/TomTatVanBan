{
 "cells": [
  {
   "cell_type": "code",
   "execution_count": 62,
   "metadata": {},
   "outputs": [],
   "source": [
    "import pickle\n",
    "import numpy as np\n",
    "from pyvi import ViTokenizer"
   ]
  },
  {
   "cell_type": "code",
   "execution_count": 65,
   "metadata": {},
   "outputs": [
    {
     "name": "stdout",
     "output_type": "stream",
     "text": [
      "Ban đêm, Mi ta mới đi làm cho chủ. Chú ta biết hết đường đi lối lại của bọn chuột. Không con chuột nào chạy thoát nếu chú đã phát hiện được. Có lần, em được chứng kiến nó bắt chuột ban ngày. Có lẽ, con chuột đó đói quá phải đi ăn trộm ban ngày. Chú Mi ngụy trang rất khéo, chú nằm khuất sau cái chổi cạnh chân hòm cáng thóc. Một con chuột nhắt rất tinh ranh, mắt lấm lét, đi nhẹ nhàng đến định trèo lên hòm thóc để chui vào ăn thóc. Mi nằm yên như đang ngủ. Bỗng “chụp” một cái, chỉ nghe thấy tiếng “chít” tuyệt vọng, Mi ta đã vồ gọn con mồi trong móng vuốt của chú.Hả hê với chiến thắng của mình, Mi tha con chuột đó ra vườn. Chú nhả con chuột ra, lấy cái chân trước vờn đi vờn lại con chuột đó. Con chuột vội chạy đi nhưng chạy sao thoát. Em nghĩ con chuột đó chỉ sợ đã chết. Thế rồi, chú ta ung dung ngồi chén hết con chuột nhắt đó. Mỗi lần chú bắt được chuột, em đều vuốt ve động viên chú. Đến bữa, em lại thưởng cho chú những miếng ăn ngon nhất. Mi tỏ vẻ sung sướng lắm.Mi ăn rất ít, hàng ngày chú ta ăn không hết một bát cơm. Khi ăn, chú ta cứ nhỏ nhẻ từng tí một. Em thường nghe mọi người nói “ăn như mèo” quả không sai. Dù đói đến đâu thì Mi cũng ăn rất từ tốn. Khác với Vàng - chú cún tinh nghịch nhà em, cứ ăn hùng hục. Vàng và Mi rất thân với nhau. Ngày nào, chúng cũng chơi đùa với nhau mà không có xích mích gì cả.Buổi sáng, khi nắng vàng trải khắp sân, Mi nằm duỗi dài bốn chân, mắt lim dim, trông thật đáng yêu. Thỉnh thoảng, nó lại cho tay lên mặt cào cào, như là nó đang rửa mặt. Buổi tối, khi cả nhà ăn cơm xong, bao giờ Mi cũng tranh thủ ngồi vào lòng em nũng nịu.Em rất yêu quý Mi. Mi không chỉ là vật kỉ niệm của bà ngoại tặng cho em mà nó còn là “dũng sĩ diệt chuột” của nhà em. Mi giúp nhà em rất nhiều trong chiến dịch diệt chuột. Từ ngày có Mi, nhà em không còn lo lũ chuột quấy phá. Em sẽ chăm sóc Mi cho khỏe, chơi với Mi vui vẻ để làm theo đúng lời dặn của bà em khi bà tặng Mi cho em.\n"
     ]
    }
   ],
   "source": [
    "#Load\n",
    "with open ('data.pkl', 'rb') as fp:\n",
    "    contents = pickle.load(fp)\n",
    "print(contents[4])"
   ]
  },
  {
   "cell_type": "code",
   "execution_count": 68,
   "metadata": {},
   "outputs": [
    {
     "name": "stdout",
     "output_type": "stream",
     "text": [
      "ban đêm, mi ta mới đi làm cho chủ. chú ta biết hết đường đi lối lại của bọn chuột. không con chuột nào chạy thoát nếu chú đã phát hiện được. có lần, em được chứng kiến nó bắt chuột ban ngày. có lẽ, con chuột đó đói quá phải đi ăn trộm ban ngày. chú mi ngụy trang rất khéo, chú nằm khuất sau cái chổi cạnh chân hòm cáng thóc. một con chuột nhắt rất tinh ranh, mắt lấm lét, đi nhẹ nhàng đến định trèo lên hòm thóc để chui vào ăn thóc. mi nằm yên như đang ngủ. bỗng “chụp” một cái, chỉ nghe thấy tiếng “chít” tuyệt vọng, mi ta đã vồ gọn con mồi trong móng vuốt của chú.hả hê với chiến thắng của mình, mi tha con chuột đó ra vườn. chú nhả con chuột ra, lấy cái chân trước vờn đi vờn lại con chuột đó. con chuột vội chạy đi nhưng chạy sao thoát. em nghĩ con chuột đó chỉ sợ đã chết. thế rồi, chú ta ung dung ngồi chén hết con chuột nhắt đó. mỗi lần chú bắt được chuột, em đều vuốt ve động viên chú. đến bữa, em lại thưởng cho chú những miếng ăn ngon nhất. mi tỏ vẻ sung sướng lắm.mi ăn rất ít, hàng ngày chú ta ăn không hết một bát cơm. khi ăn, chú ta cứ nhỏ nhẻ từng tí một. em thường nghe mọi người nói “ăn như mèo” quả không sai. dù đói đến đâu thì mi cũng ăn rất từ tốn. khác với vàng - chú cún tinh nghịch nhà em, cứ ăn hùng hục. vàng và mi rất thân với nhau. ngày nào, chúng cũng chơi đùa với nhau mà không có xích mích gì cả.buổi sáng, khi nắng vàng trải khắp sân, mi nằm duỗi dài bốn chân, mắt lim dim, trông thật đáng yêu. thỉnh thoảng, nó lại cho tay lên mặt cào cào, như là nó đang rửa mặt. buổi tối, khi cả nhà ăn cơm xong, bao giờ mi cũng tranh thủ ngồi vào lòng em nũng nịu.em rất yêu quý mi. mi không chỉ là vật kỉ niệm của bà ngoại tặng cho em mà nó còn là “dũng sĩ diệt chuột” của nhà em. mi giúp nhà em rất nhiều trong chiến dịch diệt chuột. từ ngày có mi, nhà em không còn lo lũ chuột quấy phá. em sẽ chăm sóc mi cho khỏe, chơi với mi vui vẻ để làm theo đúng lời dặn của bà em khi bà tặng mi cho em.\n"
     ]
    }
   ],
   "source": [
    "#Pre-processing\n",
    "contents_parsed = contents[4]\n",
    "print(contents_parsed.lower().strip())\n"
   ]
  },
  {
   "cell_type": "code",
   "execution_count": 84,
   "metadata": {},
   "outputs": [
    {
     "name": "stderr",
     "output_type": "stream",
     "text": [
      "[nltk_data] Downloading package punkt to C:\\Users\\Nguyen Dinh\n",
      "[nltk_data]     Tiem\\AppData\\Roaming\\nltk_data...\n",
      "[nltk_data]   Package punkt is already up-to-date!\n"
     ]
    },
    {
     "data": {
      "text/plain": [
       "True"
      ]
     },
     "execution_count": 84,
     "metadata": {},
     "output_type": "execute_result"
    }
   ],
   "source": [
    "import nltk\n",
    "#nltk.download('punkt')"
   ]
  },
  {
   "cell_type": "code",
   "execution_count": 70,
   "metadata": {},
   "outputs": [],
   "source": [
    "sentences = nltk.sent_tokenize(contents_parsed.lower().strip())"
   ]
  },
  {
   "cell_type": "code",
   "execution_count": 71,
   "metadata": {},
   "outputs": [
    {
     "name": "stdout",
     "output_type": "stream",
     "text": [
      "['ban đêm, mi ta mới đi làm cho chủ.', 'chú ta biết hết đường đi lối lại của bọn chuột.', 'không con chuột nào chạy thoát nếu chú đã phát hiện được.', 'có lần, em được chứng kiến nó bắt chuột ban ngày.', 'có lẽ, con chuột đó đói quá phải đi ăn trộm ban ngày.', 'chú mi ngụy trang rất khéo, chú nằm khuất sau cái chổi cạnh chân hòm cáng thóc.', 'một con chuột nhắt rất tinh ranh, mắt lấm lét, đi nhẹ nhàng đến định trèo lên hòm thóc để chui vào ăn thóc.', 'mi nằm yên như đang ngủ.', 'bỗng “chụp” một cái, chỉ nghe thấy tiếng “chít” tuyệt vọng, mi ta đã vồ gọn con mồi trong móng vuốt của chú.hả hê với chiến thắng của mình, mi tha con chuột đó ra vườn.', 'chú nhả con chuột ra, lấy cái chân trước vờn đi vờn lại con chuột đó.', 'con chuột vội chạy đi nhưng chạy sao thoát.', 'em nghĩ con chuột đó chỉ sợ đã chết.', 'thế rồi, chú ta ung dung ngồi chén hết con chuột nhắt đó.', 'mỗi lần chú bắt được chuột, em đều vuốt ve động viên chú.', 'đến bữa, em lại thưởng cho chú những miếng ăn ngon nhất.', 'mi tỏ vẻ sung sướng lắm.mi ăn rất ít, hàng ngày chú ta ăn không hết một bát cơm.', 'khi ăn, chú ta cứ nhỏ nhẻ từng tí một.', 'em thường nghe mọi người nói “ăn như mèo” quả không sai.', 'dù đói đến đâu thì mi cũng ăn rất từ tốn.', 'khác với vàng - chú cún tinh nghịch nhà em, cứ ăn hùng hục.', 'vàng và mi rất thân với nhau.', 'ngày nào, chúng cũng chơi đùa với nhau mà không có xích mích gì cả.buổi sáng, khi nắng vàng trải khắp sân, mi nằm duỗi dài bốn chân, mắt lim dim, trông thật đáng yêu.', 'thỉnh thoảng, nó lại cho tay lên mặt cào cào, như là nó đang rửa mặt.', 'buổi tối, khi cả nhà ăn cơm xong, bao giờ mi cũng tranh thủ ngồi vào lòng em nũng nịu.em rất yêu quý mi.', 'mi không chỉ là vật kỉ niệm của bà ngoại tặng cho em mà nó còn là “dũng sĩ diệt chuột” của nhà em.', 'mi giúp nhà em rất nhiều trong chiến dịch diệt chuột.', 'từ ngày có mi, nhà em không còn lo lũ chuột quấy phá.', 'em sẽ chăm sóc mi cho khỏe, chơi với mi vui vẻ để làm theo đúng lời dặn của bà em khi bà tặng mi cho em.']\n"
     ]
    }
   ],
   "source": [
    "print(sentences)"
   ]
  },
  {
   "cell_type": "code",
   "execution_count": 72,
   "metadata": {},
   "outputs": [],
   "source": [
    "from gensim.models import KeyedVectors \n",
    "\n",
    "w2v = KeyedVectors.load_word2vec_format(\"vi.vec\")"
   ]
  },
  {
   "cell_type": "code",
   "execution_count": 73,
   "metadata": {},
   "outputs": [
    {
     "name": "stderr",
     "output_type": "stream",
     "text": [
      "<ipython-input-73-e4dfc2436b2a>:1: DeprecationWarning: Call to deprecated `wv` (Attribute will be removed in 4.0.0, use self instead).\n",
      "  vocab = w2v.wv.vocab\n"
     ]
    }
   ],
   "source": [
    "vocab = w2v.wv.vocab"
   ]
  },
  {
   "cell_type": "code",
   "execution_count": 74,
   "metadata": {},
   "outputs": [
    {
     "name": "stderr",
     "output_type": "stream",
     "text": [
      "<ipython-input-74-1582200a37d4>:8: DeprecationWarning: Call to deprecated `wv` (Attribute will be removed in 4.0.0, use self instead).\n",
      "  sentence_vec+=w2v.wv[word]\n"
     ]
    }
   ],
   "source": [
    "X = []\n",
    "for sentence in sentences:\n",
    "    sentence = ViTokenizer.tokenize(sentence)\n",
    "    words = sentence.split(\" \")\n",
    "    sentence_vec = np.zeros((100))\n",
    "    for word in words:\n",
    "        if word in vocab:\n",
    "            sentence_vec+=w2v.wv[word]\n",
    "    X.append(sentence_vec)"
   ]
  },
  {
   "cell_type": "code",
   "execution_count": 81,
   "metadata": {},
   "outputs": [],
   "source": [
    "from sklearn.cluster import KMeans\n",
    "\n",
    "n_clusters = 8\n",
    "kmeans = KMeans(n_clusters=n_clusters)\n",
    "kmeans = kmeans.fit(X)"
   ]
  },
  {
   "cell_type": "code",
   "execution_count": 82,
   "metadata": {},
   "outputs": [],
   "source": [
    "from sklearn.metrics import pairwise_distances_argmin_min\n",
    "\n",
    "avg = []\n",
    "for j in range(n_clusters):\n",
    "    idx = np.where(kmeans.labels_ == j)[0]\n",
    "    avg.append(np.mean(idx))\n",
    "closest, _ = pairwise_distances_argmin_min(kmeans.cluster_centers_, X)\n",
    "ordering = sorted(range(n_clusters), key=lambda k: avg[k])\n",
    "summary = ' '.join([sentences[closest[idx]] for idx in ordering])"
   ]
  },
  {
   "cell_type": "code",
   "execution_count": 83,
   "metadata": {},
   "outputs": [
    {
     "data": {
      "text/plain": [
       "'chú mi ngụy trang rất khéo, chú nằm khuất sau cái chổi cạnh chân hòm cáng thóc. bỗng “chụp” một cái, chỉ nghe thấy tiếng “chít” tuyệt vọng, mi ta đã vồ gọn con mồi trong móng vuốt của chú.hả hê với chiến thắng của mình, mi tha con chuột đó ra vườn. em nghĩ con chuột đó chỉ sợ đã chết. khi ăn, chú ta cứ nhỏ nhẻ từng tí một. mi tỏ vẻ sung sướng lắm.mi ăn rất ít, hàng ngày chú ta ăn không hết một bát cơm. ngày nào, chúng cũng chơi đùa với nhau mà không có xích mích gì cả.buổi sáng, khi nắng vàng trải khắp sân, mi nằm duỗi dài bốn chân, mắt lim dim, trông thật đáng yêu. mi không chỉ là vật kỉ niệm của bà ngoại tặng cho em mà nó còn là “dũng sĩ diệt chuột” của nhà em. em sẽ chăm sóc mi cho khỏe, chơi với mi vui vẻ để làm theo đúng lời dặn của bà em khi bà tặng mi cho em.'"
      ]
     },
     "execution_count": 83,
     "metadata": {},
     "output_type": "execute_result"
    }
   ],
   "source": [
    "summary"
   ]
  },
  {
   "cell_type": "code",
   "execution_count": null,
   "metadata": {},
   "outputs": [],
   "source": []
  }
 ],
 "metadata": {
  "kernelspec": {
   "display_name": "Python 3",
   "language": "python",
   "name": "python3"
  },
  "language_info": {
   "codemirror_mode": {
    "name": "ipython",
    "version": 3
   },
   "file_extension": ".py",
   "mimetype": "text/x-python",
   "name": "python",
   "nbconvert_exporter": "python",
   "pygments_lexer": "ipython3",
   "version": "3.8.3"
  }
 },
 "nbformat": 4,
 "nbformat_minor": 4
}
